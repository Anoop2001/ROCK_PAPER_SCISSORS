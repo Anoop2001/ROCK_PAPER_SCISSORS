{
 "cells": [
  {
   "cell_type": "code",
   "execution_count": 1,
   "metadata": {},
   "outputs": [
    {
     "name": "stdout",
     "output_type": "stream",
     "text": [
      "welcome to the game rock paper scissors\n",
      "press 0 to play\n",
      "press 1 to exit\n",
      "\n"
     ]
    },
    {
     "name": "stdin",
     "output_type": "stream",
     "text": [
      " 1\n"
     ]
    },
    {
     "name": "stdout",
     "output_type": "stream",
     "text": [
      "ok bye\n"
     ]
    }
   ],
   "source": [
    "##ROCK_PAPER_SCISSORS\n",
    "from random import randint\n",
    "import random\n",
    "\n",
    "print(\"welcome to the game rock paper scissors\")\n",
    "print(\"press 0 to play\")\n",
    "print(\"press 1 to exit\")\n",
    "print('')\n",
    "x=int(input())\n",
    "list=['rock','paper','scissors']\n",
    "\n",
    "#input\n",
    "\n",
    "while x==0:\n",
    "    print('')\n",
    "    i=input(\"select 1 from ROCK_PAPER_SCISSORS\").lower()\n",
    "    #a=randtint(0,1)\n",
    "    list.remove(i)\n",
    "    print('')\n",
    "    com=random.choice(list)\n",
    "    print(\"OK I Select {}\".format(com))\n",
    "    print('')\n",
    "    c=input('tap a to know the result').lower()\n",
    "    print(\"\")\n",
    "    if c!='a':\n",
    "        print('tap a again')\n",
    "        c=input().lower()\n",
    "        print('')\n",
    "    print('')    \n",
    "    if c=='a':\n",
    "        #checking result\n",
    "        if com=='rock' and i=='paper':\n",
    "            print(\"YOU WON\")\n",
    "        elif com==\"rock\" and i==\"scissors\":\n",
    "            print(\"SORRY YOU LOOSE\")\n",
    "        elif com==\"paper\" and i==\"rock\":\n",
    "            print(\"SORRY YOU LOOSE\")\n",
    "        elif com=='paper' and i=='scissors':\n",
    "            print(\"YOU WON\")\n",
    "        elif com==\"scissors\" and i==\"rock\":\n",
    "            print(\"YOU WON\")\n",
    "        elif com=='scissors' and i==\"paper\":\n",
    "            print(\"SORRY YOU LOOSE\")\n",
    "        print('')\n",
    "        y=int(input(\"type 0 for playing again and 1 for exit\"))\n",
    "        if y==1:\n",
    "            print(\"thanks for playing\")\n",
    "            print('')\n",
    "            x=x+1\n",
    "    \n",
    "if x==1:\n",
    "    \n",
    "    print(\"ok bye\")"
   ]
  },
  {
   "cell_type": "code",
   "execution_count": null,
   "metadata": {},
   "outputs": [],
   "source": []
  }
 ],
 "metadata": {
  "kernelspec": {
   "display_name": "Python 3",
   "language": "python",
   "name": "python3"
  },
  "language_info": {
   "codemirror_mode": {
    "name": "ipython",
    "version": 3
   },
   "file_extension": ".py",
   "mimetype": "text/x-python",
   "name": "python",
   "nbconvert_exporter": "python",
   "pygments_lexer": "ipython3",
   "version": "3.8.5"
  }
 },
 "nbformat": 4,
 "nbformat_minor": 4
}

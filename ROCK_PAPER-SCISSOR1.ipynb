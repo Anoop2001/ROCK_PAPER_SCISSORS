{
 "cells": [
  {
   "cell_type": "code",
   "execution_count": 7,
   "metadata": {},
   "outputs": [
    {
     "output_type": "stream",
     "name": "stdout",
     "text": [
      "Ok i choose rock\n",
      "\n",
      "YOU LOOSE\n",
      " Round 1 Score : \n",
      "---------------\n",
      "Computer : 1\n",
      "Your : 0\n",
      "Ok i choose scissors\n",
      "\n",
      "Ok i choose paper\n",
      "\n",
      "YOU LOOSE\n",
      " Round 3 Score : \n",
      "---------------\n",
      "Computer : 2\n",
      "Your : 0\n",
      "thanks for playing\n",
      "ok Bye\n"
     ]
    }
   ],
   "source": [
    "##ROCK_PAPER_SCISSORS\n",
    "\n",
    "#---------- IMPORT ---------------\n",
    "from random import randint\n",
    "\n",
    "#------ Score and Options----------\n",
    "rsp_options = {1:'rock',2:'paper',3:'scissors'}\n",
    "Score = {\"computer\":0,\"player\":0}\n",
    "round_count=0\n",
    "#---------- START or QUIT --------------\n",
    "x=input(f\"welcome to the game rock paper scissors\\npress any key to Start\\npress q to Quit\\n\")\n",
    "\n",
    "# User option Selection Function\n",
    "def choose_user_rsp():\n",
    "        return input(\"\\nPress\\t 1 for rock, 2 for paper, 3 for scissors : \\n\").lower()\n",
    "\n",
    "\n",
    "#main While loop\n",
    "while x.lower() != 'q':\n",
    "    round_count+=1\n",
    "    player_choice=rsp_options[int(choose_user_rsp())]\n",
    "    com=rsp_options[randint(1,3)]\n",
    "    print(f\"Ok i choose {player_choice}\\n\")\n",
    "    c=input('tap any key to know the result \\nOR\\nr to re draw option').lower()\n",
    "    if c.lower() == 'r':\n",
    "        print(\"Re Draw your Option\")\n",
    "        player_choice=rsp_options[int(choose_user_rsp())]\n",
    "    else:\n",
    "        #checking result\n",
    "        if com==player_choice:\n",
    "            Score[\"computer\"]+=1\n",
    "            Score[\"player\"]+=1\n",
    "            print(\"DRAW\")\n",
    "        elif (com=='rock' and player_choice=='paper') or (com=='paper' and player_choice=='scissors') or (com==\"scissors\" and player_choice==\"rock\"):\n",
    "            Score[\"player\"]+=1\n",
    "            print(\"YOU WON\")\n",
    "        else:\n",
    "            Score[\"computer\"]+=1\n",
    "            print(\"YOU LOOSE\")\n",
    "        print(f\"Computer choose {com} and You choose {player_choice}\")\n",
    "        print(f\" Round {round_count} Score : \\n---------------\\nComputer : {Score['computer']}\\nYour : {Score['player']}\")\n",
    "        y=input(\"\\nPress any Key to Continue the Game\\nPress q to Quit the Game\\n\")\n",
    "        if y.lower()=='q':\n",
    "            print(\"thanks for playing\\nok Bye\")\n",
    "            break\n",
    "    \n"
   ]
  },
  {
   "cell_type": "code",
   "execution_count": null,
   "metadata": {},
   "outputs": [],
   "source": []
  },
  {
   "cell_type": "code",
   "execution_count": null,
   "metadata": {},
   "outputs": [],
   "source": []
  }
 ],
 "metadata": {
  "kernelspec": {
   "name": "python3",
   "display_name": "Python 3.9.1 64-bit",
   "metadata": {
    "interpreter": {
     "hash": "767d51c1340bd893661ea55ea3124f6de3c7a262a8b4abca0554b478b1e2ff90"
    }
   }
  },
  "language_info": {
   "codemirror_mode": {
    "name": "ipython",
    "version": 3
   },
   "file_extension": ".py",
   "mimetype": "text/x-python",
   "name": "python",
   "nbconvert_exporter": "python",
   "pygments_lexer": "ipython3",
   "version": "3.9.1-final"
  }
 },
 "nbformat": 4,
 "nbformat_minor": 4
}